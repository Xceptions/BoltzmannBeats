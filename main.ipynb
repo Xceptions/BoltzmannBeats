{
 "cells": [
  {
   "cell_type": "code",
   "execution_count": 1,
   "metadata": {},
   "outputs": [],
   "source": [
    "import numpy as np\n",
    "import pandas as pd\n",
    "import msgpack\n",
    "import glob\n",
    "import tensorflow as tf\n",
    "from tensorflow.python.ops import control_flow_ops\n",
    "from tqdm import tqdm\n",
    "import os\n",
    "\n",
    "import midi_manipulation"
   ]
  },
  {
   "cell_type": "code",
   "execution_count": 2,
   "metadata": {},
   "outputs": [
    {
     "name": "stderr",
     "output_type": "stream",
     "text": [
      "100%|██████████████████████████████████████████████████████████████████████████████████| 88/88 [00:04<00:00, 19.56it/s]"
     ]
    },
    {
     "name": "stdout",
     "output_type": "stream",
     "text": [
      "84 songs processed\n"
     ]
    },
    {
     "name": "stderr",
     "output_type": "stream",
     "text": [
      "\n"
     ]
    }
   ],
   "source": [
    "def get_songs(path):\n",
    "    # search inside the path folder and read all files with .mid extension\n",
    "    files = glob.glob(f'{ path }/*.mid*')\n",
    "    songs = []\n",
    "    for f in tqdm(files):\n",
    "        try:\n",
    "            song = np.array(midi_manipulation.midiToNoteStateMatrix(f))\n",
    "            if np.array(song).shape[0] > 50:\n",
    "                songs.append(song)\n",
    "        except Exception as e:\n",
    "            raise e\n",
    "    return songs\n",
    "\n",
    "songs = get_songs('Music_Data')  # These songs have already been converted from midi to msgpack\n",
    "print(\"{} songs processed\".format(len(songs)))"
   ]
  },
  {
   "cell_type": "code",
   "execution_count": 3,
   "metadata": {},
   "outputs": [],
   "source": [
    "# Model hyperparameters\n",
    "lowest_note = midi_manipulation.lowerBound # the index of the lowest note on the piano roll\n",
    "highest_note = midi_manipulation.upperBound # the index of the highest note on the piano roll\n",
    "note_range = midi_manipulation.span # upperBound - lowerBound"
   ]
  },
  {
   "cell_type": "code",
   "execution_count": 4,
   "metadata": {},
   "outputs": [],
   "source": [
    "# Define training parameters\n",
    "\n",
    "num_timesteps = 15\n",
    "n_visible = 2 * note_range * num_timesteps # size of the visible layer\n",
    "n_hidden = 50 # size of the hidden layer\n",
    "\n",
    "epochs = 200\n",
    "batch_size = 100\n",
    "lr = tf.constant(0.005, tf.float32)\n",
    "\n",
    "x = tf.compat.v1.placeholder(tf.float32, [None, n_visible], name=\"x\")\n",
    "W = tf.Variable(tf.random.normal([n_visible, n_hidden], 0.01), name=\"W\")\n",
    "# There are 2 biases; for the visible bv and hidden bh layers\n",
    "bh = tf.Variable(tf.zeros([1, n_hidden], tf.float32, name=\"bh\"))\n",
    "bv = tf.Variable(tf.zeros([1, n_visible], tf.float32, name=\"bv\"))"
   ]
  },
  {
   "cell_type": "code",
   "execution_count": 5,
   "metadata": {},
   "outputs": [],
   "source": [
    "# Helper function: to sample from a vector of probabilities\n",
    "def sample(probs):\n",
    "    # takes in a vector of probabilities, and returns a random vector of 0s and 1s sampled from the input vector\n",
    "    return tf.floor(probs + tf.random.uniform(tf.shape(probs), 0, 1))"
   ]
  },
  {
   "cell_type": "markdown",
   "metadata": {},
   "source": [
    "Function below runs the gibb chain. It will be called in two places:\n",
    "1. When we define the training update step\n",
    "2. When we sample our music segments from the trained RBM"
   ]
  },
  {
   "cell_type": "code",
   "execution_count": 7,
   "metadata": {},
   "outputs": [],
   "source": [
    "def gibbs_sample(k):\n",
    "    # runs a k-step gibbs chain to sample from the probability distribution of the RBM defined by W, bh, bv\n",
    "    def gibbs_step(count, k, xk):\n",
    "        # Runs a single gibbs step. The visible values are initialized to xk\n",
    "        hk = sample(tf.sigmoid(tf.matmul(xk, W) + bh))\n",
    "        xk = sample(\n",
    "            # Propagate the hidden values to sample the visible values\n",
    "            tf.sigmoid(tf.matmul(hk, tf.transpose(W)) + bv)\n",
    "        )\n",
    "        return count + 1, k, xk\n",
    "    \n",
    "    # Run gibbs steps for k iterations\n",
    "    ct = tf.constant(0) # counter\n",
    "    [_, _, x_sample] = control_flow_ops.while_loop(lambda count, num_iter, *args: count<num_iter,\n",
    "                                                   gibbs_step, [ct, tf.constant(k), x])\n",
    "    # Not necessary in this implementation except you want to use one of tensorflow's\n",
    "    # optimizers, you'll need this in order to stop tensorflow from propagating gradients\n",
    "    # back through the gibbs step\n",
    "    x_sample = tf.stop_gradient(x_sample)\n",
    "    return x_sample"
   ]
  },
  {
   "cell_type": "code",
   "execution_count": 8,
   "metadata": {},
   "outputs": [],
   "source": [
    "\"\"\"\n",
    "Training update code\n",
    "Implement the contrastive divergence algorithm.\n",
    "First, get the samples of x and h from the probability distribution\n",
    "\"\"\"\n",
    "# The sample of x\n",
    "x_sample = gibbs_sample(1)\n",
    "# The sample of the hidden nodes, starting from the visible state of x\n",
    "h = sample(tf.sigmoid(tf.matmul(x, W) + bh))\n",
    "# The sample of the hidden nodes, starting from the visible state of x_sample\n",
    "h_sample = sample(tf.sigmoid(tf.matmul(x_sample, W) + bh))\n",
    "\n",
    "# Next, we update the values of W, bh, and bv based on the difference between the samples that we\n",
    "# drew and the original values\n",
    "size_bt = tf.cast(tf.shape(x)[0], tf.float32)\n",
    "W_adder = tf.multiply(lr / size_bt,\n",
    "                      tf.subtract(tf.matmul(tf.transpose(x), h), tf.matmul(tf.transpose(x_sample), h_sample)))\n",
    "bv_adder = tf.multiply(lr / size_bt, tf.reduce_sum(tf.subtract(x, x_sample), 0, True))\n",
    "bh_adder = tf.multiply(lr / size_bt, tf.reduce_sum(tf.subtract(h, h_sample), 0, True))\n",
    "# When we run sess.run(updt), Tensorflow will run all 3 update steps\n",
    "updt = [W.assign_add(W_adder), bv.assign_add(bv_adder), bh.assign_add(bh_adder)]"
   ]
  },
  {
   "cell_type": "code",
   "execution_count": 9,
   "metadata": {
    "scrolled": true
   },
   "outputs": [
    {
     "name": "stderr",
     "output_type": "stream",
     "text": [
      "100%|██████████████████████████████████████████████████████████████████████████████████| 10/10 [00:02<00:00,  4.08it/s]\n"
     ]
    }
   ],
   "source": [
    "# Run the graph!\n",
    "# Now it's time to start a session and run the graph!\n",
    "epochs = 10\n",
    "with tf.Session() as sess:\n",
    "    # First, we train the model\n",
    "    init = tf.compat.v1.global_variables_initializer()\n",
    "    sess.run(init)\n",
    "    # Run through all of the training data epochs times\n",
    "    for epoch in tqdm(range(epochs)):\n",
    "        for song in songs:\n",
    "            # The songs are stored in a time x notes format. The size of each song is timesteps_in_song x 2*note_range\n",
    "            # Here we reshape the songs so that each training example\n",
    "            # is a vector with num_timesteps x 2*note_range elements\n",
    "            song = np.array(song)\n",
    "            song = song[:int(np.floor(song.shape[0] // num_timesteps) * num_timesteps)]\n",
    "            song = np.reshape(song, [song.shape[0] // num_timesteps, song.shape[1] * num_timesteps])\n",
    "            # Train the RBM on batch_size examples at a time\n",
    "            for i in range(1, len(song), batch_size):\n",
    "                tr_x = song[i:i + batch_size]\n",
    "                sess.run(updt, feed_dict={x: tr_x})\n",
    "                \n",
    "    # Now the model is fully trained, so let's make some music!\n",
    "    # Run a gibbs chain where the visible nodes are initialized to 0\n",
    "    sample = gibbs_sample(1).eval(session=sess, feed_dict={x: np.zeros((10, n_visible))})\n",
    "    for i in range(sample.shape[0]):\n",
    "        if not any(sample[i, :]):\n",
    "            continue\n",
    "        # Here we reshape the vector to be time x notes and then save the vector as a midi file\n",
    "        S = np.reshape(sample[i, :], (num_timesteps, 2 * note_range))\n",
    "        midi_manipulation.noteStateMatrixToMidi(S, f\"out/generated_chord_{i}\")"
   ]
  },
  {
   "cell_type": "code",
   "execution_count": null,
   "metadata": {},
   "outputs": [],
   "source": []
  }
 ],
 "metadata": {
  "kernelspec": {
   "display_name": "Python 3",
   "language": "python",
   "name": "python3"
  },
  "language_info": {
   "codemirror_mode": {
    "name": "ipython",
    "version": 3
   },
   "file_extension": ".py",
   "mimetype": "text/x-python",
   "name": "python",
   "nbconvert_exporter": "python",
   "pygments_lexer": "ipython3",
   "version": "3.7.4"
  }
 },
 "nbformat": 4,
 "nbformat_minor": 2
}
